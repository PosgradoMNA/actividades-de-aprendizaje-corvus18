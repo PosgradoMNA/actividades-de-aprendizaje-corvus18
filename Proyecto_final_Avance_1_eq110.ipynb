{
  "nbformat": 4,
  "nbformat_minor": 0,
  "metadata": {
    "colab": {
      "provenance": [],
      "authorship_tag": "ABX9TyNfPMMw1ba21W8dPeVKJAwl",
      "include_colab_link": true
    },
    "kernelspec": {
      "name": "python3",
      "display_name": "Python 3"
    },
    "language_info": {
      "name": "python"
    }
  },
  "cells": [
    {
      "cell_type": "markdown",
      "metadata": {
        "id": "view-in-github",
        "colab_type": "text"
      },
      "source": [
        "<a href=\"https://colab.research.google.com/github/PosgradoMNA/actividades-de-aprendizaje-corvus18/blob/main/Proyecto_final_Avance_1_eq110.ipynb\" target=\"_parent\"><img src=\"https://colab.research.google.com/assets/colab-badge.svg\" alt=\"Open In Colab\"/></a>"
      ]
    },
    {
      "cell_type": "code",
      "execution_count": null,
      "metadata": {
        "id": "lV_8BNeMadDL"
      },
      "outputs": [],
      "source": []
    },
    {
      "cell_type": "markdown",
      "source": [
        "# **Proyecto final - Avance 1**\n",
        "\n",
        "**Integrantes:**\n",
        "\n",
        "Antonio Zamora Sanchez - A0\n",
        "\n",
        "Felipe de Jesús Gastelum Lizarraga - A01114918"
      ],
      "metadata": {
        "id": "PdJOG4CTaqko"
      }
    },
    {
      "cell_type": "markdown",
      "source": [
        "## **Información de Base de Datos Seleccionada:**\n",
        "\n",
        "\\\n",
        "\n",
        "**Nombre:**\n",
        "\n",
        "\"Used Cars Price Prediction\"\n",
        "\n",
        "\\\n",
        "\n",
        "**Nombre de la Organización que la genero:**\n",
        "\n",
        "\"Co learning Launge\"\n",
        "\n",
        "\\\n",
        "\n",
        "**Descripción:**\n",
        "\n",
        "La base de datos recopila información de mas de 6000 vehiculos usados, algunas de las características o campos de la base son los siguientes:\n",
        "Nombre, ubicación, año, kilómetros recorridos, tipo de combustible, transmisión, kilometraje, motor,\n",
        "potencia, asientos, precio, etc.\n",
        "\n",
        "\n",
        "\\\n",
        "\n",
        "\n",
        "**URL de Descarga:**\n",
        "\n",
        "https://www.kaggle.com/datasets/colearninglounge/used-cars-price-prediction?resource=download\n",
        "\n"
      ],
      "metadata": {
        "id": "CKwNDvbbbywj"
      }
    },
    {
      "cell_type": "markdown",
      "source": [
        "## **Preguntas de investigación que podría responder con estos datos:**\n",
        "\n",
        "1. Para empresas retail, ¿Es mas rentable vender autos nuevos o usados?\n",
        "\n",
        "2. ¿Qué variables son las mas significativas o tienen un mayor impacto en el precio del vehiculo?\n",
        "\n",
        "3. ¿Qué características deberá de validar los retail para aceptar autos de segunda mano?\n",
        "\n",
        "4. ¿Qué precio deberia tener un auto usado dadas sus características?\n",
        "\n",
        "5. ¿Qué marcas de vehiculos son las mas caras?\n",
        "\n",
        "6. ¿Qué tipo de vehiculos se deprecian mas rapido?\n",
        "\n",
        "7. ¿Qué tipo de vehiculos usados suelen ser los caros?\n",
        "\n",
        "8. ¿Qué tipo de vehiculos usados suelen ser los mas baratos?\n",
        "\n",
        "\n",
        "\n"
      ],
      "metadata": {
        "id": "7EKbWCDzhMVT"
      }
    },
    {
      "cell_type": "code",
      "source": [],
      "metadata": {
        "id": "9RQZ1uYJj54B"
      },
      "execution_count": null,
      "outputs": []
    }
  ]
}