{
  "nbformat": 4,
  "nbformat_minor": 0,
  "metadata": {
    "colab": {
      "provenance": [],
      "authorship_tag": "ABX9TyOJjSIIR4CvRIPQsm02RlXj",
      "include_colab_link": true
    },
    "kernelspec": {
      "name": "python3",
      "display_name": "Python 3"
    },
    "language_info": {
      "name": "python"
    }
  },
  "cells": [
    {
      "cell_type": "markdown",
      "metadata": {
        "id": "view-in-github",
        "colab_type": "text"
      },
      "source": [
        "<a href=\"https://colab.research.google.com/github/PosgradoMNA/actividades-de-aprendizaje-corvus18/blob/main/Proyecto_final_Avance_1_eq110.ipynb\" target=\"_parent\"><img src=\"https://colab.research.google.com/assets/colab-badge.svg\" alt=\"Open In Colab\"/></a>"
      ]
    },
    {
      "cell_type": "code",
      "execution_count": null,
      "metadata": {
        "id": "lV_8BNeMadDL"
      },
      "outputs": [],
      "source": []
    },
    {
      "cell_type": "markdown",
      "source": [
        "# **Proyecto final - Avance 1**\n",
        "\n",
        "Integrantes:\n",
        "\n",
        "Antonio Zamora Sanchez - A0\n",
        "\n",
        "Felipe de Jesús Gastelum Lizarraga - A01114918"
      ],
      "metadata": {
        "id": "PdJOG4CTaqko"
      }
    },
    {
      "cell_type": "markdown",
      "source": [
        "## **Información de Base de Datos Seleccionada:**\n",
        "\n",
        "**Nombre:**\\\n",
        "\"Used Cars Price Prediction\"\n",
        "\n",
        "**Nombre de la Organización que la genero:**\\\n",
        "\"Co learning Launge\"\n",
        "\n",
        "**Descripción:**\\\n",
        "La base de datos contiene caracteristcias de mas de 6000 vehiculos usados, contiene información como: Nombre, ubicación, año, kilómetros recorridos, tipo de combustible, transmisión, kilometraje, motor, potencia, asientos, precio, etc.\n",
        "\n",
        "\n",
        "Que datos contienen, el documento contiene datos como Nombres de Marcas, modelos, kilometraje, tipos de transmisión, millaje, Hp\n",
        "\n",
        "**URL de Descarga:**\\\n",
        "https://www.kaggle.com/datasets/colearninglounge/used-cars-price-prediction?resource=download\n"
      ],
      "metadata": {
        "id": "CKwNDvbbbywj"
      }
    },
    {
      "cell_type": "code",
      "source": [],
      "metadata": {
        "id": "gooFtrEzawOo"
      },
      "execution_count": null,
      "outputs": []
    }
  ]
}