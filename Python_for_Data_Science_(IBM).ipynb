{
  "nbformat": 4,
  "nbformat_minor": 0,
  "metadata": {
    "colab": {
      "provenance": [],
      "authorship_tag": "ABX9TyOigZaTqQw5/up856ipT2+j",
      "include_colab_link": true
    },
    "kernelspec": {
      "name": "python3",
      "display_name": "Python 3"
    },
    "language_info": {
      "name": "python"
    }
  },
  "cells": [
    {
      "cell_type": "markdown",
      "metadata": {
        "id": "view-in-github",
        "colab_type": "text"
      },
      "source": [
        "<a href=\"https://colab.research.google.com/github/PosgradoMNA/actividades-de-aprendizaje-corvus18/blob/main/Python_for_Data_Science_(IBM).ipynb\" target=\"_parent\"><img src=\"https://colab.research.google.com/assets/colab-badge.svg\" alt=\"Open In Colab\"/></a>"
      ]
    },
    {
      "cell_type": "code",
      "execution_count": null,
      "metadata": {
        "colab": {
          "base_uri": "https://localhost:8080/"
        },
        "id": "_EwttwEqgIfq",
        "outputId": "7f08e876-9a50-4e6f-b9c4-65dd0158015e"
      },
      "outputs": [
        {
          "output_type": "stream",
          "name": "stdout",
          "text": [
            "Hola a todos!\n"
          ]
        }
      ],
      "source": [
        "#Imprimir Mensaje\n",
        "print(\"Hola a todos!\")"
      ]
    },
    {
      "cell_type": "code",
      "source": [
        "#Types\n",
        "\n",
        "type(12)\n",
        "\n",
        "bool(0)\n"
      ],
      "metadata": {
        "colab": {
          "base_uri": "https://localhost:8080/"
        },
        "id": "bQztt-C8ggCt",
        "outputId": "57b9c9fb-14e5-461d-8f3b-39c67d1d9f83"
      },
      "execution_count": null,
      "outputs": [
        {
          "output_type": "execute_result",
          "data": {
            "text/plain": [
              "False"
            ]
          },
          "metadata": {},
          "execution_count": 7
        }
      ]
    },
    {
      "cell_type": "code",
      "source": [
        "#Variables\n",
        "\n",
        "x = 5\n",
        "\n",
        "y = 2\n",
        "\n",
        "z = x * y\n",
        "\n",
        "print(z)\n"
      ],
      "metadata": {
        "colab": {
          "base_uri": "https://localhost:8080/"
        },
        "id": "Ni-SdlRHitc3",
        "outputId": "b8447ee1-0866-45e5-e81f-0800c279c380"
      },
      "execution_count": null,
      "outputs": [
        {
          "output_type": "stream",
          "name": "stdout",
          "text": [
            "10\n"
          ]
        }
      ]
    },
    {
      "cell_type": "code",
      "source": [
        "#Strings\n",
        "\n",
        "a = \"bienvenido\"\n",
        "b = a.upper()\n",
        "\n",
        "print(b)\n",
        "\n",
        "s1 = \"Hola\"\n",
        "s2 = \" Felipe\"\n",
        "\n",
        "s3 = s1 + s2\n",
        "\n",
        "s3"
      ],
      "metadata": {
        "colab": {
          "base_uri": "https://localhost:8080/",
          "height": 53
        },
        "id": "2xTpUezhNC3a",
        "outputId": "61e7f3e7-233a-4a6a-c98c-d771139c97f8"
      },
      "execution_count": 4,
      "outputs": [
        {
          "output_type": "stream",
          "name": "stdout",
          "text": [
            "FELIPE\n"
          ]
        },
        {
          "output_type": "execute_result",
          "data": {
            "text/plain": [
              "'Hola Felipe'"
            ],
            "application/vnd.google.colaboratory.intrinsic+json": {
              "type": "string"
            }
          },
          "metadata": {},
          "execution_count": 4
        }
      ]
    },
    {
      "cell_type": "code",
      "source": [
        "#Pruebas\n",
        "name =\"ABCDE\"\n",
        "print(name[0:2])\n"
      ],
      "metadata": {
        "colab": {
          "base_uri": "https://localhost:8080/"
        },
        "id": "Uc9IHFqrNt5y",
        "outputId": "0acf5571-5c81-4216-a03d-b1d834d2ac95"
      },
      "execution_count": 5,
      "outputs": [
        {
          "output_type": "stream",
          "name": "stdout",
          "text": [
            "AB\n"
          ]
        }
      ]
    },
    {
      "cell_type": "code",
      "source": [
        "#List and Tuples\n",
        "\n",
        "\n",
        "#Tuple\n",
        "usuario = (\"Felipe\", 12, 3)\n",
        "\n",
        "print(usuario[0])\n",
        "\n",
        "\n",
        "B=[\"a\",\"b\",\"c\"]\n",
        "\n",
        "B.extend([\"d\"])\n",
        "\n",
        "print(B)\n",
        "\n",
        "B[-1]"
      ],
      "metadata": {
        "id": "YVSWvZLYOOOi",
        "outputId": "7e050eec-986a-4594-bbd4-3593a5a45f9e",
        "colab": {
          "base_uri": "https://localhost:8080/",
          "height": 70
        }
      },
      "execution_count": 26,
      "outputs": [
        {
          "output_type": "stream",
          "name": "stdout",
          "text": [
            "Felipe\n",
            "['a', 'b', 'c', 'd']\n"
          ]
        },
        {
          "output_type": "execute_result",
          "data": {
            "text/plain": [
              "'d'"
            ],
            "application/vnd.google.colaboratory.intrinsic+json": {
              "type": "string"
            }
          },
          "metadata": {},
          "execution_count": 26
        }
      ]
    },
    {
      "cell_type": "code",
      "source": [
        "A = ('a','b','c')\n",
        "A[0]"
      ],
      "metadata": {
        "id": "a31gCeuCUQuC",
        "outputId": "9cdc4ee4-a16b-4de3-e2b7-758e20bb3897",
        "colab": {
          "base_uri": "https://localhost:8080/",
          "height": 36
        }
      },
      "execution_count": 38,
      "outputs": [
        {
          "output_type": "execute_result",
          "data": {
            "text/plain": [
              "'a'"
            ],
            "application/vnd.google.colaboratory.intrinsic+json": {
              "type": "string"
            }
          },
          "metadata": {},
          "execution_count": 38
        }
      ]
    },
    {
      "cell_type": "code",
      "source": [
        "str = \"A.B.C.D\"\n",
        "\n",
        "str = str.split(\".\")\n",
        "\n",
        "str\n"
      ],
      "metadata": {
        "id": "xOzgSDzEQfU8",
        "outputId": "8e9a0f51-04f1-49e7-df39-92c536e9165c",
        "colab": {
          "base_uri": "https://localhost:8080/"
        }
      },
      "execution_count": 19,
      "outputs": [
        {
          "output_type": "execute_result",
          "data": {
            "text/plain": [
              "['A', 'B', 'C', 'D']"
            ]
          },
          "metadata": {},
          "execution_count": 19
        }
      ]
    },
    {
      "cell_type": "code",
      "source": [
        "#SETS\n",
        "B=[\"a\",\"b\",\"c\"]\n",
        "mysetA = {\"1\",\"2\",\"3\"}\n",
        "mysetB = set(B)\n",
        "\n",
        "mysetA\n",
        "mysetB\n",
        "\n",
        "\n",
        "x = \"d\" in mysetB\n",
        "y = \"b\" in mysetB\n",
        "\n"
      ],
      "metadata": {
        "id": "roAj7GN0Rwhv",
        "outputId": "13d62c45-7ad2-4722-a6da-7fb28d6d25d0",
        "colab": {
          "base_uri": "https://localhost:8080/"
        }
      },
      "execution_count": 33,
      "outputs": [
        {
          "output_type": "execute_result",
          "data": {
            "text/plain": [
              "True"
            ]
          },
          "metadata": {},
          "execution_count": 33
        }
      ]
    },
    {
      "cell_type": "code",
      "source": [
        "S={'A','B','C'}\n",
        "\n",
        "U={'A','Z','C'}\n",
        "\n",
        "U.union(S)"
      ],
      "metadata": {
        "id": "D1fvQOPbS89f",
        "outputId": "56ac9fea-3766-4e27-c146-20a823701569",
        "colab": {
          "base_uri": "https://localhost:8080/"
        }
      },
      "execution_count": 34,
      "outputs": [
        {
          "output_type": "execute_result",
          "data": {
            "text/plain": [
              "{'A', 'B', 'C', 'Z'}"
            ]
          },
          "metadata": {},
          "execution_count": 34
        }
      ]
    },
    {
      "cell_type": "code",
      "source": [
        "#Diccionarios\n",
        "\n",
        "usuario ={\"nombre\":\"Felipe\",\"Edad\":12,\"Pais\":\"Mexico\"}\n",
        "usuario.values()"
      ],
      "metadata": {
        "id": "7UuNEfYsTYyG",
        "outputId": "2aa138fc-153c-48af-cffc-f5f03b54d0b8",
        "colab": {
          "base_uri": "https://localhost:8080/"
        }
      },
      "execution_count": 36,
      "outputs": [
        {
          "output_type": "execute_result",
          "data": {
            "text/plain": [
              "dict_values(['Felipe', 12, 'Mexico'])"
            ]
          },
          "metadata": {},
          "execution_count": 36
        }
      ]
    },
    {
      "cell_type": "code",
      "source": [
        "D = {'a':0,'b':1,'c':2}\n",
        "D['b']"
      ],
      "metadata": {
        "id": "x8JazI3bT-TK",
        "outputId": "c6fdef21-4134-435f-cb3a-f2c17846c9e3",
        "colab": {
          "base_uri": "https://localhost:8080/"
        }
      },
      "execution_count": 37,
      "outputs": [
        {
          "output_type": "execute_result",
          "data": {
            "text/plain": [
              "1"
            ]
          },
          "metadata": {},
          "execution_count": 37
        }
      ]
    },
    {
      "cell_type": "code",
      "source": [
        "Dict={\"A\":1,\"B\":\"2\",\"C\":[3,3,3],\"D\":(4,4,4),'E':5,'F':6}\n",
        "Dict[\"D\"]"
      ],
      "metadata": {
        "id": "BC5FSAC5UOSW",
        "outputId": "74d18ab7-0020-4345-e0be-526f274e520e",
        "colab": {
          "base_uri": "https://localhost:8080/"
        }
      },
      "execution_count": 39,
      "outputs": [
        {
          "output_type": "execute_result",
          "data": {
            "text/plain": [
              "(4, 4, 4)"
            ]
          },
          "metadata": {},
          "execution_count": 39
        }
      ]
    }
  ]
}