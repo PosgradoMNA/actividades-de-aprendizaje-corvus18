{
  "nbformat": 4,
  "nbformat_minor": 0,
  "metadata": {
    "colab": {
      "provenance": [],
      "authorship_tag": "ABX9TyPwxoLGz+3xPwE7S2WdCQ4L",
      "include_colab_link": true
    },
    "kernelspec": {
      "name": "python3",
      "display_name": "Python 3"
    },
    "language_info": {
      "name": "python"
    }
  },
  "cells": [
    {
      "cell_type": "markdown",
      "metadata": {
        "id": "view-in-github",
        "colab_type": "text"
      },
      "source": [
        "<a href=\"https://colab.research.google.com/github/PosgradoMNA/actividades-de-aprendizaje-corvus18/blob/main/Python_for_Data_Science_(IBM).ipynb\" target=\"_parent\"><img src=\"https://colab.research.google.com/assets/colab-badge.svg\" alt=\"Open In Colab\"/></a>"
      ]
    },
    {
      "cell_type": "markdown",
      "source": [
        "## **MODULO1**"
      ],
      "metadata": {
        "id": "Fb8iPy4iVVXg"
      }
    },
    {
      "cell_type": "code",
      "execution_count": null,
      "metadata": {
        "colab": {
          "base_uri": "https://localhost:8080/"
        },
        "id": "_EwttwEqgIfq",
        "outputId": "7f08e876-9a50-4e6f-b9c4-65dd0158015e"
      },
      "outputs": [
        {
          "output_type": "stream",
          "name": "stdout",
          "text": [
            "Hola a todos!\n"
          ]
        }
      ],
      "source": [
        "#Imprimir Mensaje\n",
        "print(\"Hola a todos!\")"
      ]
    },
    {
      "cell_type": "code",
      "source": [
        "#Types\n",
        "\n",
        "type(12)\n",
        "\n",
        "bool(0)\n"
      ],
      "metadata": {
        "colab": {
          "base_uri": "https://localhost:8080/"
        },
        "id": "bQztt-C8ggCt",
        "outputId": "57b9c9fb-14e5-461d-8f3b-39c67d1d9f83"
      },
      "execution_count": null,
      "outputs": [
        {
          "output_type": "execute_result",
          "data": {
            "text/plain": [
              "False"
            ]
          },
          "metadata": {},
          "execution_count": 7
        }
      ]
    },
    {
      "cell_type": "code",
      "source": [
        "#Variables\n",
        "\n",
        "x = 5\n",
        "\n",
        "y = 2\n",
        "\n",
        "z = x * y\n",
        "\n",
        "print(z)\n"
      ],
      "metadata": {
        "colab": {
          "base_uri": "https://localhost:8080/"
        },
        "id": "Ni-SdlRHitc3",
        "outputId": "b8447ee1-0866-45e5-e81f-0800c279c380"
      },
      "execution_count": null,
      "outputs": [
        {
          "output_type": "stream",
          "name": "stdout",
          "text": [
            "10\n"
          ]
        }
      ]
    },
    {
      "cell_type": "code",
      "source": [
        "#Strings\n",
        "\n",
        "a = \"bienvenido\"\n",
        "b = a.upper()\n",
        "\n",
        "print(b)\n",
        "\n",
        "s1 = \"Hola\"\n",
        "s2 = \" Felipe\"\n",
        "\n",
        "s3 = s1 + s2\n",
        "\n",
        "s3"
      ],
      "metadata": {
        "colab": {
          "base_uri": "https://localhost:8080/",
          "height": 53
        },
        "id": "2xTpUezhNC3a",
        "outputId": "61e7f3e7-233a-4a6a-c98c-d771139c97f8"
      },
      "execution_count": 4,
      "outputs": [
        {
          "output_type": "stream",
          "name": "stdout",
          "text": [
            "FELIPE\n"
          ]
        },
        {
          "output_type": "execute_result",
          "data": {
            "text/plain": [
              "'Hola Felipe'"
            ],
            "application/vnd.google.colaboratory.intrinsic+json": {
              "type": "string"
            }
          },
          "metadata": {},
          "execution_count": 4
        }
      ]
    },
    {
      "cell_type": "code",
      "source": [
        "#Pruebas\n",
        "name =\"ABCDE\"\n",
        "print(name[0:2])\n"
      ],
      "metadata": {
        "colab": {
          "base_uri": "https://localhost:8080/"
        },
        "id": "Uc9IHFqrNt5y",
        "outputId": "0acf5571-5c81-4216-a03d-b1d834d2ac95"
      },
      "execution_count": 5,
      "outputs": [
        {
          "output_type": "stream",
          "name": "stdout",
          "text": [
            "AB\n"
          ]
        }
      ]
    },
    {
      "cell_type": "markdown",
      "source": [
        "## **MODULO2**"
      ],
      "metadata": {
        "id": "VRV3GXH0VIiP"
      }
    },
    {
      "cell_type": "code",
      "source": [
        "#List and Tuples\n",
        "\n",
        "\n",
        "#Tuple\n",
        "usuario = (\"Felipe\", 12, 3)\n",
        "\n",
        "print(usuario[0])\n",
        "\n",
        "\n",
        "B=[\"a\",\"b\",\"c\"]\n",
        "\n",
        "B.extend([\"d\"])\n",
        "\n",
        "print(B)\n",
        "\n",
        "B[-1]"
      ],
      "metadata": {
        "colab": {
          "base_uri": "https://localhost:8080/",
          "height": 70
        },
        "id": "YVSWvZLYOOOi",
        "outputId": "7e050eec-986a-4594-bbd4-3593a5a45f9e"
      },
      "execution_count": 26,
      "outputs": [
        {
          "output_type": "stream",
          "name": "stdout",
          "text": [
            "Felipe\n",
            "['a', 'b', 'c', 'd']\n"
          ]
        },
        {
          "output_type": "execute_result",
          "data": {
            "text/plain": [
              "'d'"
            ],
            "application/vnd.google.colaboratory.intrinsic+json": {
              "type": "string"
            }
          },
          "metadata": {},
          "execution_count": 26
        }
      ]
    },
    {
      "cell_type": "code",
      "source": [
        "A = ('a','b','c')\n",
        "A[0]"
      ],
      "metadata": {
        "colab": {
          "base_uri": "https://localhost:8080/",
          "height": 36
        },
        "id": "a31gCeuCUQuC",
        "outputId": "9cdc4ee4-a16b-4de3-e2b7-758e20bb3897"
      },
      "execution_count": 38,
      "outputs": [
        {
          "output_type": "execute_result",
          "data": {
            "text/plain": [
              "'a'"
            ],
            "application/vnd.google.colaboratory.intrinsic+json": {
              "type": "string"
            }
          },
          "metadata": {},
          "execution_count": 38
        }
      ]
    },
    {
      "cell_type": "code",
      "source": [
        "str = \"A.B.C.D\"\n",
        "\n",
        "str = str.split(\".\")\n",
        "\n",
        "str\n"
      ],
      "metadata": {
        "colab": {
          "base_uri": "https://localhost:8080/"
        },
        "id": "xOzgSDzEQfU8",
        "outputId": "8e9a0f51-04f1-49e7-df39-92c536e9165c"
      },
      "execution_count": 19,
      "outputs": [
        {
          "output_type": "execute_result",
          "data": {
            "text/plain": [
              "['A', 'B', 'C', 'D']"
            ]
          },
          "metadata": {},
          "execution_count": 19
        }
      ]
    },
    {
      "cell_type": "code",
      "source": [
        "#SETS\n",
        "B=[\"a\",\"b\",\"c\"]\n",
        "mysetA = {\"1\",\"2\",\"3\"}\n",
        "mysetB = set(B)\n",
        "\n",
        "mysetA\n",
        "mysetB\n",
        "\n",
        "\n",
        "x = \"d\" in mysetB\n",
        "y = \"b\" in mysetB\n",
        "\n"
      ],
      "metadata": {
        "colab": {
          "base_uri": "https://localhost:8080/"
        },
        "id": "roAj7GN0Rwhv",
        "outputId": "13d62c45-7ad2-4722-a6da-7fb28d6d25d0"
      },
      "execution_count": 33,
      "outputs": [
        {
          "output_type": "execute_result",
          "data": {
            "text/plain": [
              "True"
            ]
          },
          "metadata": {},
          "execution_count": 33
        }
      ]
    },
    {
      "cell_type": "code",
      "source": [
        "S={'A','B','C'}\n",
        "\n",
        "U={'A','Z','C'}\n",
        "\n",
        "U.union(S)"
      ],
      "metadata": {
        "colab": {
          "base_uri": "https://localhost:8080/"
        },
        "id": "D1fvQOPbS89f",
        "outputId": "56ac9fea-3766-4e27-c146-20a823701569"
      },
      "execution_count": 34,
      "outputs": [
        {
          "output_type": "execute_result",
          "data": {
            "text/plain": [
              "{'A', 'B', 'C', 'Z'}"
            ]
          },
          "metadata": {},
          "execution_count": 34
        }
      ]
    },
    {
      "cell_type": "code",
      "source": [
        "#Diccionarios\n",
        "\n",
        "usuario ={\"nombre\":\"Felipe\",\"Edad\":12,\"Pais\":\"Mexico\"}\n",
        "usuario.values()"
      ],
      "metadata": {
        "colab": {
          "base_uri": "https://localhost:8080/"
        },
        "id": "7UuNEfYsTYyG",
        "outputId": "2aa138fc-153c-48af-cffc-f5f03b54d0b8"
      },
      "execution_count": 36,
      "outputs": [
        {
          "output_type": "execute_result",
          "data": {
            "text/plain": [
              "dict_values(['Felipe', 12, 'Mexico'])"
            ]
          },
          "metadata": {},
          "execution_count": 36
        }
      ]
    },
    {
      "cell_type": "code",
      "source": [
        "D = {'a':0,'b':1,'c':2}\n",
        "D['b']"
      ],
      "metadata": {
        "colab": {
          "base_uri": "https://localhost:8080/"
        },
        "id": "x8JazI3bT-TK",
        "outputId": "c6fdef21-4134-435f-cb3a-f2c17846c9e3"
      },
      "execution_count": 37,
      "outputs": [
        {
          "output_type": "execute_result",
          "data": {
            "text/plain": [
              "1"
            ]
          },
          "metadata": {},
          "execution_count": 37
        }
      ]
    },
    {
      "cell_type": "code",
      "source": [
        "Dict={\"A\":1,\"B\":\"2\",\"C\":[3,3,3],\"D\":(4,4,4),'E':5,'F':6}\n",
        "Dict[\"D\"]"
      ],
      "metadata": {
        "colab": {
          "base_uri": "https://localhost:8080/"
        },
        "id": "BC5FSAC5UOSW",
        "outputId": "74d18ab7-0020-4345-e0be-526f274e520e"
      },
      "execution_count": 39,
      "outputs": [
        {
          "output_type": "execute_result",
          "data": {
            "text/plain": [
              "(4, 4, 4)"
            ]
          },
          "metadata": {},
          "execution_count": 39
        }
      ]
    },
    {
      "cell_type": "markdown",
      "source": [
        "## **MODULO3**"
      ],
      "metadata": {
        "id": "6lNYOiiqVes2"
      }
    },
    {
      "cell_type": "code",
      "source": [
        "#Conditions and Branching\n",
        "\n",
        "a = 5 ==4\n",
        "\n",
        "a\n",
        "\n",
        "b = 3==3\n",
        "\n",
        "b"
      ],
      "metadata": {
        "id": "0BYq5AljVD6R",
        "outputId": "831df124-6976-4f73-95e0-8d9f8cad6e7f",
        "colab": {
          "base_uri": "https://localhost:8080/"
        }
      },
      "execution_count": 42,
      "outputs": [
        {
          "output_type": "execute_result",
          "data": {
            "text/plain": [
              "True"
            ]
          },
          "metadata": {},
          "execution_count": 42
        }
      ]
    },
    {
      "cell_type": "code",
      "source": [
        "x='a'\n",
        "\n",
        "if(x!='a'):\n",
        "\n",
        " print(\"This is not a.\")\n",
        "\n",
        "else:\n",
        "\n",
        " print(\"This is a.\")"
      ],
      "metadata": {
        "id": "bWFbpr4HWCB2",
        "outputId": "542e9998-a60c-475b-bd0c-434ef091cf49",
        "colab": {
          "base_uri": "https://localhost:8080/"
        }
      },
      "execution_count": 43,
      "outputs": [
        {
          "output_type": "stream",
          "name": "stdout",
          "text": [
            "This is a.\n"
          ]
        }
      ]
    },
    {
      "cell_type": "code",
      "source": [
        "a = 5\n",
        "b = 4\n",
        "\n",
        "if (a > b):\n",
        " print(\"A es mayor que B\")\n",
        "else:\n",
        " print(\"A no es mayor que B\")\n",
        "\n"
      ],
      "metadata": {
        "id": "Z7eJKasAWVbD",
        "outputId": "b2fd0b73-816f-4dfc-c0e8-b300bb0cae5d",
        "colab": {
          "base_uri": "https://localhost:8080/"
        }
      },
      "execution_count": 46,
      "outputs": [
        {
          "output_type": "stream",
          "name": "stdout",
          "text": [
            "A es mayor que B\n"
          ]
        }
      ]
    },
    {
      "cell_type": "code",
      "source": [
        "#Loops\n",
        "A=[3,4,5]\n",
        "\n",
        "for a in A:\n",
        " print(a)"
      ],
      "metadata": {
        "id": "7nxlz5kGWu2I",
        "outputId": "33f25d1b-ad67-4506-87c6-33f483b3a032",
        "colab": {
          "base_uri": "https://localhost:8080/"
        }
      },
      "execution_count": 47,
      "outputs": [
        {
          "output_type": "stream",
          "name": "stdout",
          "text": [
            "3\n",
            "4\n",
            "5\n"
          ]
        }
      ]
    },
    {
      "cell_type": "code",
      "source": [
        "x=3\n",
        "\n",
        "y=1\n",
        "\n",
        "while(y!=x):\n",
        "\n",
        " print(y)\n",
        "\n",
        " y=y+1"
      ],
      "metadata": {
        "id": "zxlSeyY6W7c0",
        "outputId": "1c225f72-a9e1-4ec0-b201-9c49ca1e0439",
        "colab": {
          "base_uri": "https://localhost:8080/"
        }
      },
      "execution_count": 48,
      "outputs": [
        {
          "output_type": "stream",
          "name": "stdout",
          "text": [
            "1\n",
            "2\n"
          ]
        }
      ]
    },
    {
      "cell_type": "code",
      "source": [
        "x=1\n",
        "\n",
        "if(x!=1):\n",
        "\n",
        " print('Hello')\n",
        "\n",
        "else:\n",
        "\n",
        " print('Hi')\n",
        "\n",
        "print('Mike')"
      ],
      "metadata": {
        "id": "sW5CL9A1aT9j",
        "outputId": "d079190f-4729-40ef-8e66-85b5e694d75e",
        "colab": {
          "base_uri": "https://localhost:8080/"
        }
      },
      "execution_count": 54,
      "outputs": [
        {
          "output_type": "stream",
          "name": "stdout",
          "text": [
            "Hi\n",
            "Mike\n"
          ]
        }
      ]
    },
    {
      "cell_type": "code",
      "source": [
        "#Funciones\n",
        "\n",
        "a=1\n",
        "\n",
        "def add(b):\n",
        "\n",
        " return a+b\n",
        "\n",
        "c=add(10)\n",
        "\n",
        "c"
      ],
      "metadata": {
        "id": "sL7unbjtXP20",
        "outputId": "0753734f-6e6b-460a-97af-411a2cb5d13a",
        "colab": {
          "base_uri": "https://localhost:8080/"
        }
      },
      "execution_count": 50,
      "outputs": [
        {
          "output_type": "execute_result",
          "data": {
            "text/plain": [
              "11"
            ]
          },
          "metadata": {},
          "execution_count": 50
        }
      ]
    },
    {
      "cell_type": "code",
      "source": [
        "def f1(*x):\n",
        " return sum(x)\n",
        "\n",
        "\n",
        "b = 4\n",
        "\n",
        "c = f1(b)\n",
        "\n",
        "c"
      ],
      "metadata": {
        "id": "6g6G3X6-XvNW",
        "outputId": "e50c250f-2eb6-45f8-c2be-15f56920adf0",
        "colab": {
          "base_uri": "https://localhost:8080/"
        }
      },
      "execution_count": 53,
      "outputs": [
        {
          "output_type": "execute_result",
          "data": {
            "text/plain": [
              "4"
            ]
          },
          "metadata": {},
          "execution_count": 53
        }
      ]
    },
    {
      "cell_type": "code",
      "source": [
        "A = ['1','2','3']\n",
        "\n",
        "for a in A:\n",
        "\n",
        " print(2*a)"
      ],
      "metadata": {
        "id": "LubNbbGbagU_",
        "outputId": "c5fb2271-d36b-476c-ca14-64517c3a7dcc",
        "colab": {
          "base_uri": "https://localhost:8080/"
        }
      },
      "execution_count": 55,
      "outputs": [
        {
          "output_type": "stream",
          "name": "stdout",
          "text": [
            "11\n",
            "22\n",
            "33\n"
          ]
        }
      ]
    },
    {
      "cell_type": "code",
      "source": [
        "#Clases y Metodos\n",
        "\n",
        "class Person:\n",
        "  def __init__(self, name, age):\n",
        "    self.name = name\n",
        "    self.age = age\n",
        "\n",
        "p1 = Person(\"John\", 36)\n",
        "\n",
        "print(p1.name)\n",
        "print(p1.age)"
      ],
      "metadata": {
        "id": "lBfERM26YwRV",
        "outputId": "3cd5654e-071b-489a-a4b0-b8739594d95d",
        "colab": {
          "base_uri": "https://localhost:8080/"
        }
      },
      "execution_count": 56,
      "outputs": [
        {
          "output_type": "stream",
          "name": "stdout",
          "text": [
            "John\n",
            "36\n"
          ]
        }
      ]
    }
  ]
}