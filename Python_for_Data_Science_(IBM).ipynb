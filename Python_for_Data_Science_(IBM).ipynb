{
  "nbformat": 4,
  "nbformat_minor": 0,
  "metadata": {
    "colab": {
      "provenance": [],
      "authorship_tag": "ABX9TyPdUsknXhGhSaLm576k8zeK",
      "include_colab_link": true
    },
    "kernelspec": {
      "name": "python3",
      "display_name": "Python 3"
    },
    "language_info": {
      "name": "python"
    }
  },
  "cells": [
    {
      "cell_type": "markdown",
      "metadata": {
        "id": "view-in-github",
        "colab_type": "text"
      },
      "source": [
        "<a href=\"https://colab.research.google.com/github/PosgradoMNA/actividades-de-aprendizaje-corvus18/blob/main/Python_for_Data_Science_(IBM).ipynb\" target=\"_parent\"><img src=\"https://colab.research.google.com/assets/colab-badge.svg\" alt=\"Open In Colab\"/></a>"
      ]
    },
    {
      "cell_type": "code",
      "execution_count": null,
      "metadata": {
        "colab": {
          "base_uri": "https://localhost:8080/"
        },
        "id": "_EwttwEqgIfq",
        "outputId": "7f08e876-9a50-4e6f-b9c4-65dd0158015e"
      },
      "outputs": [
        {
          "output_type": "stream",
          "name": "stdout",
          "text": [
            "Hola a todos!\n"
          ]
        }
      ],
      "source": [
        "#Imprimir Mensaje\n",
        "print(\"Hola a todos!\")"
      ]
    },
    {
      "cell_type": "code",
      "source": [
        "#Types\n",
        "\n",
        "type(12)\n",
        "\n",
        "bool(0)\n"
      ],
      "metadata": {
        "colab": {
          "base_uri": "https://localhost:8080/"
        },
        "id": "bQztt-C8ggCt",
        "outputId": "57b9c9fb-14e5-461d-8f3b-39c67d1d9f83"
      },
      "execution_count": null,
      "outputs": [
        {
          "output_type": "execute_result",
          "data": {
            "text/plain": [
              "False"
            ]
          },
          "metadata": {},
          "execution_count": 7
        }
      ]
    },
    {
      "cell_type": "code",
      "source": [
        "#Variables\n",
        "\n",
        "x = 5\n",
        "\n",
        "y = 2\n",
        "\n",
        "z = x * y\n",
        "\n",
        "print(z)\n"
      ],
      "metadata": {
        "colab": {
          "base_uri": "https://localhost:8080/"
        },
        "id": "Ni-SdlRHitc3",
        "outputId": "b8447ee1-0866-45e5-e81f-0800c279c380"
      },
      "execution_count": null,
      "outputs": [
        {
          "output_type": "stream",
          "name": "stdout",
          "text": [
            "10\n"
          ]
        }
      ]
    },
    {
      "cell_type": "code",
      "source": [
        "#Strings\n",
        "\n",
        "a = \"bienvenido\"\n",
        "b = a.upper()\n",
        "\n",
        "print(b)\n",
        "\n",
        "s1 = \"Hola\"\n",
        "s2 = \" Felipe\"\n",
        "\n",
        "s3 = s1 + s2\n",
        "\n",
        "s3"
      ],
      "metadata": {
        "id": "2xTpUezhNC3a",
        "outputId": "61e7f3e7-233a-4a6a-c98c-d771139c97f8",
        "colab": {
          "base_uri": "https://localhost:8080/",
          "height": 53
        }
      },
      "execution_count": 4,
      "outputs": [
        {
          "output_type": "stream",
          "name": "stdout",
          "text": [
            "FELIPE\n"
          ]
        },
        {
          "output_type": "execute_result",
          "data": {
            "text/plain": [
              "'Hola Felipe'"
            ],
            "application/vnd.google.colaboratory.intrinsic+json": {
              "type": "string"
            }
          },
          "metadata": {},
          "execution_count": 4
        }
      ]
    },
    {
      "cell_type": "code",
      "source": [
        "#Pruebas\n",
        "name =\"ABCDE\"\n",
        "print(name[0:2])\n"
      ],
      "metadata": {
        "id": "Uc9IHFqrNt5y",
        "outputId": "0acf5571-5c81-4216-a03d-b1d834d2ac95",
        "colab": {
          "base_uri": "https://localhost:8080/"
        }
      },
      "execution_count": 5,
      "outputs": [
        {
          "output_type": "stream",
          "name": "stdout",
          "text": [
            "AB\n"
          ]
        }
      ]
    }
  ]
}