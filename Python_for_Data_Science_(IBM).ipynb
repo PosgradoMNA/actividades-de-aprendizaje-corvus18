{
  "nbformat": 4,
  "nbformat_minor": 0,
  "metadata": {
    "colab": {
      "provenance": [],
      "authorship_tag": "ABX9TyNtVyg7pWNRnmQh4MfBdTZF",
      "include_colab_link": true
    },
    "kernelspec": {
      "name": "python3",
      "display_name": "Python 3"
    },
    "language_info": {
      "name": "python"
    }
  },
  "cells": [
    {
      "cell_type": "markdown",
      "metadata": {
        "id": "view-in-github",
        "colab_type": "text"
      },
      "source": [
        "<a href=\"https://colab.research.google.com/github/PosgradoMNA/actividades-de-aprendizaje-corvus18/blob/main/Python_for_Data_Science_(IBM).ipynb\" target=\"_parent\"><img src=\"https://colab.research.google.com/assets/colab-badge.svg\" alt=\"Open In Colab\"/></a>"
      ]
    },
    {
      "cell_type": "code",
      "execution_count": 1,
      "metadata": {
        "colab": {
          "base_uri": "https://localhost:8080/"
        },
        "id": "_EwttwEqgIfq",
        "outputId": "7f08e876-9a50-4e6f-b9c4-65dd0158015e"
      },
      "outputs": [
        {
          "output_type": "stream",
          "name": "stdout",
          "text": [
            "Hola a todos!\n"
          ]
        }
      ],
      "source": [
        "#Imprimir Mensaje\n",
        "print(\"Hola a todos!\")"
      ]
    },
    {
      "cell_type": "code",
      "source": [
        "#Types\n",
        "\n",
        "type(12)\n",
        "\n",
        "bool(0)\n"
      ],
      "metadata": {
        "colab": {
          "base_uri": "https://localhost:8080/"
        },
        "id": "bQztt-C8ggCt",
        "outputId": "57b9c9fb-14e5-461d-8f3b-39c67d1d9f83"
      },
      "execution_count": 7,
      "outputs": [
        {
          "output_type": "execute_result",
          "data": {
            "text/plain": [
              "False"
            ]
          },
          "metadata": {},
          "execution_count": 7
        }
      ]
    },
    {
      "cell_type": "code",
      "source": [
        "#Variables\n",
        "\n",
        "x = 5\n",
        "\n",
        "y = 2\n",
        "\n",
        "z = x * y\n",
        "\n",
        "print(z)\n"
      ],
      "metadata": {
        "colab": {
          "base_uri": "https://localhost:8080/"
        },
        "id": "Ni-SdlRHitc3",
        "outputId": "b8447ee1-0866-45e5-e81f-0800c279c380"
      },
      "execution_count": 8,
      "outputs": [
        {
          "output_type": "stream",
          "name": "stdout",
          "text": [
            "10\n"
          ]
        }
      ]
    }
  ]
}